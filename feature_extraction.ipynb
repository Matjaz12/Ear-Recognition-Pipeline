{
 "cells": [
  {
   "cell_type": "markdown",
   "id": "e0c67636",
   "metadata": {
    "id": "4D5FAD1-moA8",
    "papermill": {
     "duration": 0.007753,
     "end_time": "2023-01-08T13:17:35.604041",
     "exception": false,
     "start_time": "2023-01-08T13:17:35.596288",
     "status": "completed"
    },
    "tags": []
   },
   "source": [
    "# Feature extraction\n",
    "\n",
    "In this notebook we use the fine-tuned DeepLabV3 segmentation model [1] to segment the ears and crop the ears. Extracted ears are than encoded using local binary patterns [3] and resnet50 features [2].\n",
    "\n",
    "In more detail we try out the following two methods:\n",
    "\n",
    "1. feature vector is a histogram of extracted Local Binary Patterns (LBPs)\n",
    "2. feature vector is a histogram of extracted Local Binary Patterns (LBPs) concatenated with ResNet50 (trained on ImageNet) feature vector"
   ]
  },
  {
   "cell_type": "markdown",
   "id": "e02f5b54",
   "metadata": {
    "id": "XnFCLdRCm7pT",
    "papermill": {
     "duration": 0.006307,
     "end_time": "2023-01-08T13:17:35.617067",
     "exception": false,
     "start_time": "2023-01-08T13:17:35.610760",
     "status": "completed"
    },
    "tags": []
   },
   "source": [
    "**References**\n",
    "\n",
    "[1] https://github.com/Matjaz12/Ear-Recognition-Pipeline/blob/main/segmentation.ipynb\n",
    "\n",
    "[2] https://pytorch.org/vision/main/models/generated/torchvision.models.resnet50.html\n",
    "\n",
    "[3] https://scikit-image.org/docs/stable/auto_examples/features_detection/plot_local_binary_pattern.html\n"
   ]
  },
  {
   "cell_type": "markdown",
   "id": "7c105bff",
   "metadata": {
    "id": "ZrP_zlJOxZwY",
    "papermill": {
     "duration": 0.006311,
     "end_time": "2023-01-08T13:17:35.629799",
     "exception": false,
     "start_time": "2023-01-08T13:17:35.623488",
     "status": "completed"
    },
    "tags": []
   },
   "source": [
    "## Setup\n",
    "\n",
    "Import dependencies, mount google drive and unzip data."
   ]
  },
  {
   "cell_type": "code",
   "execution_count": 1,
   "id": "81326e0b",
   "metadata": {
    "execution": {
     "iopub.execute_input": "2023-01-08T13:17:35.645151Z",
     "iopub.status.busy": "2023-01-08T13:17:35.644343Z",
     "iopub.status.idle": "2023-01-08T13:17:38.810528Z",
     "shell.execute_reply": "2023-01-08T13:17:38.809534Z"
    },
    "id": "Rcv3gUzmxbp0",
    "papermill": {
     "duration": 3.176821,
     "end_time": "2023-01-08T13:17:38.813087",
     "exception": false,
     "start_time": "2023-01-08T13:17:35.636266",
     "status": "completed"
    },
    "tags": []
   },
   "outputs": [],
   "source": [
    "import os\n",
    "\n",
    "import matplotlib.pyplot as plt\n",
    "import numpy as np\n",
    "import pandas as pd\n",
    "import torch\n",
    "import torch.nn as nn\n",
    "import torch.optim as optim\n",
    "from skimage import io, transform\n",
    "import PIL\n",
    "from torch.utils.data import DataLoader, Dataset, Subset\n",
    "from torchvision import transforms, utils\n",
    "from tqdm import tqdm"
   ]
  },
  {
   "cell_type": "code",
   "execution_count": 2,
   "id": "39407e47",
   "metadata": {
    "execution": {
     "iopub.execute_input": "2023-01-08T13:17:38.828144Z",
     "iopub.status.busy": "2023-01-08T13:17:38.827702Z",
     "iopub.status.idle": "2023-01-08T13:17:38.832245Z",
     "shell.execute_reply": "2023-01-08T13:17:38.831206Z"
    },
    "id": "LC74cPtHxdpi",
    "outputId": "85f8f8e1-d83c-4c57-923a-42238c8dce62",
    "papermill": {
     "duration": 0.014397,
     "end_time": "2023-01-08T13:17:38.834511",
     "exception": false,
     "start_time": "2023-01-08T13:17:38.820114",
     "status": "completed"
    },
    "tags": []
   },
   "outputs": [],
   "source": [
    "#from google.colab import drive\n",
    "#drive.mount('/content/drive')\n",
    "\n",
    "#FOLDERNAME = \"IBB5\"\n",
    "#assert FOLDERNAME is not None, \"[!] Enter the foldername.\"\n",
    "\n",
    "#import sys\n",
    "#DATA_PATH = '/content/drive/My Drive/{}'.format(FOLDERNAME)\n",
    "#print(DATA_PATH)\n",
    "#sys.path.append(DATA_PATH)\n",
    "\n",
    "#ROOT_PATH = \".\""
   ]
  },
  {
   "cell_type": "code",
   "execution_count": 3,
   "id": "b7f1f02f",
   "metadata": {
    "execution": {
     "iopub.execute_input": "2023-01-08T13:17:38.850079Z",
     "iopub.status.busy": "2023-01-08T13:17:38.849812Z",
     "iopub.status.idle": "2023-01-08T13:17:38.855059Z",
     "shell.execute_reply": "2023-01-08T13:17:38.854250Z"
    },
    "id": "38_hEkUsxgXC",
    "papermill": {
     "duration": 0.015955,
     "end_time": "2023-01-08T13:17:38.857030",
     "exception": false,
     "start_time": "2023-01-08T13:17:38.841075",
     "status": "completed"
    },
    "tags": []
   },
   "outputs": [],
   "source": [
    "# !unzip \"/content/drive/My Drive/IBB5/data.zip\" "
   ]
  },
  {
   "cell_type": "code",
   "execution_count": null,
   "id": "741a17c3",
   "metadata": {},
   "outputs": [],
   "source": [
    "# This Python 3 environment comes with many helpful analytics libraries installed\n",
    "# It is defined by the kaggle/python Docker image: https://github.com/kaggle/docker-python\n",
    "# For example, here's several helpful packages to load\n",
    "\n",
    "import numpy as np # linear algebra\n",
    "import pandas as pd # data processing, CSV file I/O (e.g. pd.read_csv)\n",
    "\n",
    "# Input data files are available in the read-only \"../input/\" directory\n",
    "# For example, running this (by clicking run or pressing Shift+Enter) will list all files under the input directory\n",
    "\n",
    "import os\n",
    "for dirname, _, filenames in os.walk('/kaggle/input'):\n",
    "    for filename in filenames:\n",
    "        print(os.path.join(dirname, filename))\n",
    "\n",
    "# You can write up to 20GB to the current directory (/kaggle/working/) that gets preserved as output when you create a version using \"Save & Run All\" \n",
    "# You can also write temporary files to /kaggle/temp/, but they won't be saved outside of the current session\n",
    "\n",
    "ROOT_PATH = \"/kaggle/input/eardataset/\"\n"
   ]
  },
  {
   "cell_type": "markdown",
   "id": "b28e2943",
   "metadata": {
    "id": "BTZeF4MDxpOC",
    "papermill": {
     "duration": 0.033469,
     "end_time": "2023-01-08T13:17:44.143586",
     "exception": false,
     "start_time": "2023-01-08T13:17:44.110117",
     "status": "completed"
    },
    "tags": []
   },
   "source": [
    "## ResNet50\n",
    "\n",
    "Load ResNet50 pretrained on ImageNet. We'll use the ResNet50 model for inference (i.e we'll pass a cropped ear through the network and use its associated last fully connected layer as a feature vector). "
   ]
  },
  {
   "cell_type": "code",
   "execution_count": 5,
   "id": "16db01ed",
   "metadata": {
    "execution": {
     "iopub.execute_input": "2023-01-08T13:17:44.212385Z",
     "iopub.status.busy": "2023-01-08T13:17:44.212014Z",
     "iopub.status.idle": "2023-01-08T13:17:45.614014Z",
     "shell.execute_reply": "2023-01-08T13:17:45.613050Z"
    },
    "id": "35Ry0qDIxtnx",
    "papermill": {
     "duration": 1.438769,
     "end_time": "2023-01-08T13:17:45.616502",
     "exception": false,
     "start_time": "2023-01-08T13:17:44.177733",
     "status": "completed"
    },
    "tags": []
   },
   "outputs": [
    {
     "name": "stderr",
     "output_type": "stream",
     "text": [
      "Downloading: \"https://download.pytorch.org/models/resnet50-0676ba61.pth\" to /root/.cache/torch/hub/checkpoints/resnet50-0676ba61.pth\n"
     ]
    },
    {
     "data": {
      "application/vnd.jupyter.widget-view+json": {
       "model_id": "6d8ae88470fc457b8c869647204e3108",
       "version_major": 2,
       "version_minor": 0
      },
      "text/plain": [
       "  0%|          | 0.00/97.8M [00:00<?, ?B/s]"
      ]
     },
     "metadata": {},
     "output_type": "display_data"
    }
   ],
   "source": [
    "#from torchvision.models import resnet50, ResNet50_Weights\n",
    "#resnet50_model = resnet50(weights=ResNet50_Weights.IMAGENET1K_V1)\n",
    "\n",
    "\n",
    "from torchvision.models import resnet50\n",
    "resnet50_model = resnet50(pretrained=True)"
   ]
  },
  {
   "cell_type": "code",
   "execution_count": 6,
   "id": "a6af2898",
   "metadata": {
    "execution": {
     "iopub.execute_input": "2023-01-08T13:17:45.686246Z",
     "iopub.status.busy": "2023-01-08T13:17:45.685909Z",
     "iopub.status.idle": "2023-01-08T13:17:45.690833Z",
     "shell.execute_reply": "2023-01-08T13:17:45.689803Z"
    },
    "id": "jpDdiaRy7niK",
    "papermill": {
     "duration": 0.041845,
     "end_time": "2023-01-08T13:17:45.693150",
     "exception": false,
     "start_time": "2023-01-08T13:17:45.651305",
     "status": "completed"
    },
    "tags": []
   },
   "outputs": [],
   "source": [
    "resnet50_feature_extractor = torch.nn.Sequential(*list(resnet50_model.children())[:-1])"
   ]
  },
  {
   "cell_type": "markdown",
   "id": "80a19c2b",
   "metadata": {
    "id": "7FT73VQZxuAR",
    "papermill": {
     "duration": 0.032466,
     "end_time": "2023-01-08T13:17:45.757639",
     "exception": false,
     "start_time": "2023-01-08T13:17:45.725173",
     "status": "completed"
    },
    "tags": []
   },
   "source": [
    "## Local Binary Patterns"
   ]
  },
  {
   "cell_type": "code",
   "execution_count": 7,
   "id": "923a41b5",
   "metadata": {
    "execution": {
     "iopub.execute_input": "2023-01-08T13:17:45.825288Z",
     "iopub.status.busy": "2023-01-08T13:17:45.824455Z",
     "iopub.status.idle": "2023-01-08T13:17:46.698426Z",
     "shell.execute_reply": "2023-01-08T13:17:46.697429Z"
    },
    "id": "rzoiyfQWxvrY",
    "papermill": {
     "duration": 0.910695,
     "end_time": "2023-01-08T13:17:46.700977",
     "exception": false,
     "start_time": "2023-01-08T13:17:45.790282",
     "status": "completed"
    },
    "tags": []
   },
   "outputs": [],
   "source": [
    "import numpy as np\n",
    "import numpy.typing as npt\n",
    "from skimage import feature\n",
    "from tqdm import tqdm\n",
    "from sympy import divisors\n",
    "\n",
    "\n",
    "def compute_concatenated_histogram(image, tile_size, num_bins):\n",
    "    \"\"\"\n",
    "    Function computes a concatenated histogram, by spliting the image\n",
    "    into tiles of size `tile_size` and computing a local histogram on each tile.\n",
    "    Histograms are normalized and concatenated together.\n",
    "\n",
    "    :param image: Input image\n",
    "    :param tile_size: Size of each tile (Width, Height)\n",
    "    :param num_bins: Number of bins used in computation of local histogram.\n",
    "    :return: Concatenated histogram.\n",
    "    \"\"\"\n",
    "\n",
    "    height, width = image.shape\n",
    "    tile_height, tile_width = tile_size\n",
    "    fv = []\n",
    "\n",
    "    # Split image into tiles of size (tile_height x tile_width)\n",
    "    tiled_image = image.reshape(height // tile_height,\n",
    "                                tile_height,\n",
    "                                width // tile_width,\n",
    "                                tile_width)\n",
    "\n",
    "    tiled_image = tiled_image.swapaxes(1, 2)\n",
    "    tiled_image = tiled_image.reshape(tiled_image.shape[0] * tiled_image.shape[1], tile_height, tile_width)\n",
    "\n",
    "    # Compute histogram for each tile and concatenate them\n",
    "    for tile in tiled_image:\n",
    "        from scipy.sparse import csr_matrix\n",
    "        tile_hist, _ = np.histogram(tile, density=True, bins=num_bins, range=(0, num_bins))\n",
    "        fv.extend(tile_hist)\n",
    "\n",
    "    # Normalize the concatenated histogram\n",
    "    fv = np.array(fv)\n",
    "    # fv = fv / np.sum(fv)\n",
    "\n",
    "    return fv\n",
    "\n",
    "\n",
    "class ScikitLBP:\n",
    "    def __init__(self, num_points: int = 8, radius: int = 1, to_hist: bool = True, method: str = \"default\"):\n",
    "        self.num_points = num_points\n",
    "        self.radius = radius\n",
    "        self.to_hist = to_hist\n",
    "        self.method = method\n",
    "\n",
    "    def describe(self, images: npt.NDArray, *args, **kwargs) -> npt.NDArray:\n",
    "        \"\"\"\n",
    "        Function computes a feature vector for each image.\n",
    "\n",
    "        :param images: A set of images.\n",
    "        :return: A set of feature vectors.\n",
    "        \"\"\"\n",
    "\n",
    "        fvs = []\n",
    "\n",
    "        if self.to_hist:\n",
    "            image_size_divisors = list(divisors(images[0].shape[0], generator=True))[1: -1]\n",
    "            tile_width = kwargs.get(\"tile_width\", image_size_divisors[len(image_size_divisors) // 2])\n",
    "            # print(f\"tile width: {tile_width}\")\n",
    "            # print(f\"number of tiles: {(images[0].shape[0] / tile_width) ** 2}\")\n",
    "\n",
    "        # Extract features for each image\n",
    "        for image in images:\n",
    "            image_lbp = feature.local_binary_pattern(image, self.num_points, self.radius, method=self.method)\n",
    "\n",
    "            # Compute feature vector\n",
    "            if self.to_hist:\n",
    "                num_bins = int(image_lbp.max()) + 1\n",
    "                fv = compute_concatenated_histogram(image_lbp, tile_size=(tile_width, tile_width),\n",
    "                                                    num_bins=num_bins)\n",
    "            else:\n",
    "                fv = image_lbp.flatten()\n",
    "\n",
    "            # Store feature vector\n",
    "            fvs.append(fv)\n",
    "\n",
    "        fvs = np.array(fvs)\n",
    "        return fvs\n",
    "\n",
    "    def __str__(self):\n",
    "        return \"ScikitLBP\""
   ]
  },
  {
   "cell_type": "markdown",
   "id": "13aad252",
   "metadata": {
    "id": "lDRntyKvyTAh",
    "papermill": {
     "duration": 0.032367,
     "end_time": "2023-01-08T13:17:46.767277",
     "exception": false,
     "start_time": "2023-01-08T13:17:46.734910",
     "status": "completed"
    },
    "tags": []
   },
   "source": [
    "## Load Finetuned DeepLabV3 model"
   ]
  },
  {
   "cell_type": "code",
   "execution_count": 8,
   "id": "4d8b3781",
   "metadata": {
    "execution": {
     "iopub.execute_input": "2023-01-08T13:17:46.835438Z",
     "iopub.status.busy": "2023-01-08T13:17:46.833486Z",
     "iopub.status.idle": "2023-01-08T13:17:46.840346Z",
     "shell.execute_reply": "2023-01-08T13:17:46.839435Z"
    },
    "id": "0e20nyrTyWoJ",
    "papermill": {
     "duration": 0.042938,
     "end_time": "2023-01-08T13:17:46.842331",
     "exception": false,
     "start_time": "2023-01-08T13:17:46.799393",
     "status": "completed"
    },
    "tags": []
   },
   "outputs": [],
   "source": [
    "from torchvision.models.segmentation.deeplabv3 import DeepLabHead\n",
    "import torchvision\n",
    "\n",
    "def get_model(out_channels=1, train_mode=False, pretrained=True):\n",
    "    \"\"\"\n",
    "    DeepLabv3 class with a custom head.\n",
    "    \"\"\"\n",
    "    # Load the pretrained model\n",
    "    model = torchvision.models.segmentation.deeplabv3_resnet50(pretrained=pretrained)\n",
    "\n",
    "    # Replace the classifier module with a new head\n",
    "    model.classifier = DeepLabHead(2048, out_channels)\n",
    "\n",
    "    # Set model in appropriate mode\n",
    "    model.train() if train_mode else model.eval()\n",
    "\n",
    "    return model"
   ]
  },
  {
   "cell_type": "code",
   "execution_count": 9,
   "id": "b4ec3d52",
   "metadata": {
    "execution": {
     "iopub.execute_input": "2023-01-08T13:17:46.911357Z",
     "iopub.status.busy": "2023-01-08T13:17:46.909684Z",
     "iopub.status.idle": "2023-01-08T13:17:46.914652Z",
     "shell.execute_reply": "2023-01-08T13:17:46.913739Z"
    },
    "id": "4WTrlqizydkV",
    "papermill": {
     "duration": 0.041704,
     "end_time": "2023-01-08T13:17:46.916693",
     "exception": false,
     "start_time": "2023-01-08T13:17:46.874989",
     "status": "completed"
    },
    "tags": []
   },
   "outputs": [],
   "source": [
    "# !cp -r \"/content/drive/My Drive/IBB5/results/DeepLabV3_v1\" \"./\""
   ]
  },
  {
   "cell_type": "code",
   "execution_count": 10,
   "id": "31808735",
   "metadata": {
    "execution": {
     "iopub.execute_input": "2023-01-08T13:17:46.984814Z",
     "iopub.status.busy": "2023-01-08T13:17:46.984535Z",
     "iopub.status.idle": "2023-01-08T13:17:46.988307Z",
     "shell.execute_reply": "2023-01-08T13:17:46.987399Z"
    },
    "id": "NjWvua-_2K03",
    "papermill": {
     "duration": 0.04006,
     "end_time": "2023-01-08T13:17:46.990318",
     "exception": false,
     "start_time": "2023-01-08T13:17:46.950258",
     "status": "completed"
    },
    "tags": []
   },
   "outputs": [],
   "source": [
    "# !cp -r \"/content/drive/My Drive/IBB5/results/annotations_train.csv\" \"./\""
   ]
  },
  {
   "cell_type": "code",
   "execution_count": 11,
   "id": "cfe7e5cc",
   "metadata": {
    "execution": {
     "iopub.execute_input": "2023-01-08T13:17:47.057733Z",
     "iopub.status.busy": "2023-01-08T13:17:47.057181Z",
     "iopub.status.idle": "2023-01-08T13:17:53.969245Z",
     "shell.execute_reply": "2023-01-08T13:17:53.968181Z"
    },
    "id": "FTYlxc7PyXpR",
    "papermill": {
     "duration": 6.947857,
     "end_time": "2023-01-08T13:17:53.971493",
     "exception": false,
     "start_time": "2023-01-08T13:17:47.023636",
     "status": "completed"
    },
    "tags": []
   },
   "outputs": [
    {
     "name": "stdout",
     "output_type": "stream",
     "text": [
      "Loading model...\n"
     ]
    },
    {
     "name": "stderr",
     "output_type": "stream",
     "text": [
      "Downloading: \"https://download.pytorch.org/models/deeplabv3_resnet50_coco-cd0a2569.pth\" to /root/.cache/torch/hub/checkpoints/deeplabv3_resnet50_coco-cd0a2569.pth\n"
     ]
    },
    {
     "data": {
      "application/vnd.jupyter.widget-view+json": {
       "model_id": "ce28bd9d02a14cc89b3d546346f3e52d",
       "version_major": 2,
       "version_minor": 0
      },
      "text/plain": [
       "  0%|          | 0.00/161M [00:00<?, ?B/s]"
      ]
     },
     "metadata": {},
     "output_type": "display_data"
    },
    {
     "data": {
      "text/plain": [
       "<All keys matched successfully>"
      ]
     },
     "execution_count": 11,
     "metadata": {},
     "output_type": "execute_result"
    }
   ],
   "source": [
    "print(\"Loading model...\")\n",
    "MODELS_DIR = \"./DeepLabV3_v1\"\n",
    "MODELS_DIR = \"/kaggle/input/seg-model/DeepLabV3_v1\"\n",
    "deeplabv3_model = get_model(out_channels=1, train_mode=False, pretrained=True)\n",
    "deeplabv3_model.load_state_dict(torch.load(MODELS_DIR))"
   ]
  },
  {
   "cell_type": "markdown",
   "id": "b795e1c7",
   "metadata": {
    "id": "AE--rgEMyj3e",
    "papermill": {
     "duration": 0.032299,
     "end_time": "2023-01-08T13:17:54.038941",
     "exception": false,
     "start_time": "2023-01-08T13:17:54.006642",
     "status": "completed"
    },
    "tags": []
   },
   "source": [
    "**Copy over hyper-parameters**"
   ]
  },
  {
   "cell_type": "code",
   "execution_count": 12,
   "id": "b3d2f812",
   "metadata": {
    "execution": {
     "iopub.execute_input": "2023-01-08T13:17:54.107358Z",
     "iopub.status.busy": "2023-01-08T13:17:54.105644Z",
     "iopub.status.idle": "2023-01-08T13:17:54.112102Z",
     "shell.execute_reply": "2023-01-08T13:17:54.111266Z"
    },
    "id": "DyaYbi-VyIu7",
    "papermill": {
     "duration": 0.042689,
     "end_time": "2023-01-08T13:17:54.114075",
     "exception": false,
     "start_time": "2023-01-08T13:17:54.071386",
     "status": "completed"
    },
    "tags": []
   },
   "outputs": [],
   "source": [
    "DEVICE = \"cuda\" if torch.cuda.is_available() else \"cpu\"\n",
    "BATCH_SIZE = 8\n",
    "NUM_WORKERS = 0 # 2\n",
    "IMAGE_HEIGHT = 300 \n",
    "IMAGE_WIDTH = 300 \n",
    "PIN_MEMORY = True\n",
    "\n",
    "mean = [0.485, 0.456, 0.406]\n",
    "std = [0.229, 0.224, 0.225]"
   ]
  },
  {
   "cell_type": "code",
   "execution_count": 13,
   "id": "d049279a",
   "metadata": {
    "execution": {
     "iopub.execute_input": "2023-01-08T13:17:54.181935Z",
     "iopub.status.busy": "2023-01-08T13:17:54.181604Z",
     "iopub.status.idle": "2023-01-08T13:17:54.189539Z",
     "shell.execute_reply": "2023-01-08T13:17:54.188551Z"
    },
    "id": "ZeTRFal1x0XW",
    "papermill": {
     "duration": 0.044515,
     "end_time": "2023-01-08T13:17:54.191422",
     "exception": false,
     "start_time": "2023-01-08T13:17:54.146907",
     "status": "completed"
    },
    "tags": []
   },
   "outputs": [],
   "source": [
    "class EarClassificationDataset(Dataset):\n",
    "    def __init__(\n",
    "        self, annotations_file, image_dir=\"./images\", transform=None\n",
    "    ):\n",
    "        super().__init__()\n",
    "        self.annotations = pd.read_csv(annotations_file, delimiter=\"\\t\", dtype=\"str\")\n",
    "        self.image_dir = image_dir\n",
    "        self.transform = transform\n",
    "\n",
    "    def __len__(self):\n",
    "        return len(self.annotations)\n",
    "\n",
    "    def __getitem__(self, idx):\n",
    "        if torch.is_tensor(idx):\n",
    "            idx = idx.tolist()\n",
    "\n",
    "        # Fetch image\n",
    "        folder_name, file_name = np.array(self.annotations.iloc[idx, :2])\n",
    "        image_name = os.path.join(self.image_dir, f\"{folder_name}/{file_name}.png\")\n",
    "        label = f\"{folder_name}/{file_name}\"\n",
    "\n",
    "        # Read the image and covert to numpy array\n",
    "        image = np.array(PIL.Image.open(image_name))\n",
    "\n",
    "        if self.transform:\n",
    "            augmentation = self.transform(image=image)\n",
    "            image = augmentation[\"image\"]\n",
    "\n",
    "        return image, label"
   ]
  },
  {
   "cell_type": "code",
   "execution_count": 14,
   "id": "3ccf0d31",
   "metadata": {
    "execution": {
     "iopub.execute_input": "2023-01-08T13:17:54.258452Z",
     "iopub.status.busy": "2023-01-08T13:17:54.257035Z",
     "iopub.status.idle": "2023-01-08T13:17:55.073555Z",
     "shell.execute_reply": "2023-01-08T13:17:55.072289Z"
    },
    "id": "gFZuK453x_Ea",
    "outputId": "63b4bafc-40ba-45db-fc38-66daf24ba1a8",
    "papermill": {
     "duration": 0.854882,
     "end_time": "2023-01-08T13:17:55.078396",
     "exception": false,
     "start_time": "2023-01-08T13:17:54.223514",
     "status": "completed"
    },
    "tags": []
   },
   "outputs": [
    {
     "data": {
      "text/plain": [
       "(torch.Size([3, 300, 300]), '001/02')"
      ]
     },
     "execution_count": 14,
     "metadata": {},
     "output_type": "execute_result"
    }
   ],
   "source": [
    "from albumentations.pytorch import ToTensorV2\n",
    "import albumentations\n",
    "\n",
    "preprocess_transform = albumentations.Compose([\n",
    "    albumentations.Resize(width=IMAGE_WIDTH, height=IMAGE_HEIGHT),\n",
    "    albumentations.Normalize(mean=mean, std=std, max_pixel_value=255.0),\n",
    "    ToTensorV2(transpose_mask=True)\n",
    "])\n",
    "\n",
    "train_dataset = EarClassificationDataset(annotations_file=f\"/kaggle/input/tempdata/annotations_train.csv\",\n",
    "                                image_dir=f\"{ROOT_PATH}/images\",\n",
    "                                transform=preprocess_transform)\n",
    "\n",
    "image, label = train_dataset[0]\n",
    "image.shape, label"
   ]
  },
  {
   "cell_type": "code",
   "execution_count": 15,
   "id": "551f3477",
   "metadata": {
    "execution": {
     "iopub.execute_input": "2023-01-08T13:17:55.239510Z",
     "iopub.status.busy": "2023-01-08T13:17:55.238907Z",
     "iopub.status.idle": "2023-01-08T13:17:55.281373Z",
     "shell.execute_reply": "2023-01-08T13:17:55.280163Z"
    },
    "id": "eBabBcH-yBQa",
    "papermill": {
     "duration": 0.125794,
     "end_time": "2023-01-08T13:17:55.285151",
     "exception": false,
     "start_time": "2023-01-08T13:17:55.159357",
     "status": "completed"
    },
    "tags": []
   },
   "outputs": [],
   "source": [
    "def crop_image(image, pred_mask):\n",
    "    image = image.to(\"cpu\").detach()\n",
    "    pred_mask = pred_mask.to(\"cpu\").detach()\n",
    "\n",
    "    image = image[0].numpy()\n",
    "    image = image.transpose((1, 2, 0))\n",
    "\n",
    "    pred_mask = pred_mask[0].numpy()\n",
    "    pred_mask = pred_mask.squeeze(axis=0)\n",
    "\n",
    "    # Compute masked image\n",
    "    pred_mask = np.stack((pred_mask, ) * 3, axis=-1)\n",
    "    masked_image = image * pred_mask\n",
    "\n",
    "    # Compute cropped image\n",
    "    nonzero_rows, nonzero_cols = np.nonzero(masked_image.mean(axis=2))\n",
    "    seg_y_start, seg_y_end = nonzero_rows.min(), nonzero_rows.max() + 1\n",
    "    seg_x_start, seg_x_end = nonzero_cols.min(), nonzero_cols.max() + 1\n",
    "\n",
    "    cropped_image = masked_image[seg_y_start:seg_y_end, seg_x_start:seg_x_end, :]\n",
    "\n",
    "    return cropped_image\n",
    "\n",
    "\n",
    "def plot_image_and_cropped_ear(image, pred_mask, cropped_image):\n",
    "    image = image[0].to(\"cpu\").detach()\n",
    "    pred_mask = pred_mask[0].to(\"cpu\").detach()\n",
    "\n",
    "    if torch.is_tensor(image):\n",
    "        image = image.numpy()\n",
    "        image = image.transpose((1, 2, 0))\n",
    "\n",
    "    if torch.is_tensor(pred_mask):\n",
    "        pred_mask = pred_mask.numpy()\n",
    "        pred_mask = pred_mask.squeeze(axis=0)\n",
    "\n",
    "    fig, (ax1, ax2) = plt.subplots(1, 2, figsize=(10, 5))\n",
    "    ax1.imshow(image)\n",
    "    ax1.imshow(pred_mask, alpha=0.6 * (pred_mask > 0))\n",
    "    ax2.imshow(cropped_image)\n",
    "    plt.show()\n",
    "\n",
    "\n",
    "def plot_predictions(images, masks, pred_masks, n_samples=3):\n",
    "    images = images.to(\"cpu\").detach()\n",
    "    masks = masks.to(\"cpu\").detach()\n",
    "    pred_masks = pred_masks.to(\"cpu\").detach()\n",
    "\n",
    "    for idx, (image, mask, pred_mask) in enumerate(zip(images, masks, pred_masks)):\n",
    "        if idx == n_samples:\n",
    "            break\n",
    "\n",
    "        if torch.is_tensor(image):\n",
    "            image = image.numpy()\n",
    "            image = image.transpose((1, 2, 0))\n",
    "\n",
    "        if torch.is_tensor(mask):\n",
    "            mask = mask.numpy()\n",
    "            mask = mask.squeeze(axis=0)\n",
    "\n",
    "        if torch.is_tensor(pred_mask):\n",
    "            pred_mask = pred_mask.numpy()\n",
    "            pred_mask = pred_mask.squeeze(axis=0)\n",
    "\n",
    "        plt.figure(figsize=(6, 6))\n",
    "        plt.imshow(image)\n",
    "        # plt.imshow(mask, alpha=0.6 * (mask > 0))\n",
    "        plt.imshow(pred_mask, alpha=0.6 * (pred_mask > 0))\n",
    "        plt.show()\n",
    "        \n",
    "        \n",
    "def de_normalize(images, mean, std):\n",
    "    if isinstance(mean, list):\n",
    "        mean = torch.tensor(mean).reshape((3, 1, 1)).to(DEVICE)\n",
    "        \n",
    "    if isinstance(std, list):\n",
    "        std = torch.tensor(std).reshape((3, 1, 1)).to(DEVICE)\n",
    "    \n",
    "    images = images.to(DEVICE)\n",
    "    images = images * std + mean\n",
    "    \n",
    "    return images\n",
    "\n",
    "\n",
    "def normalize(images, mean, std):\n",
    "    if isinstance(mean, list):\n",
    "        mean = torch.tensor(mean).reshape((3, 1, 1)).to(DEVICE)\n",
    "        \n",
    "    if isinstance(std, list):\n",
    "        std = torch.tensor(std).reshape((3, 1, 1)).to(DEVICE)\n",
    "    \n",
    "    images = images.to(DEVICE)\n",
    "    images = (images - mean) / std\n",
    "    \n",
    "    return images"
   ]
  },
  {
   "cell_type": "markdown",
   "id": "a1f0d96d",
   "metadata": {
    "id": "9CErp1kf1Etz",
    "papermill": {
     "duration": 0.094253,
     "end_time": "2023-01-08T13:17:55.461394",
     "exception": false,
     "start_time": "2023-01-08T13:17:55.367141",
     "status": "completed"
    },
    "tags": []
   },
   "source": [
    "## Extract and save features\n",
    "\n",
    "\n",
    "Iterate over training images, extract features and save them to the database."
   ]
  },
  {
   "cell_type": "code",
   "execution_count": 16,
   "id": "1b587cd2",
   "metadata": {
    "execution": {
     "iopub.execute_input": "2023-01-08T13:17:55.543906Z",
     "iopub.status.busy": "2023-01-08T13:17:55.543515Z",
     "iopub.status.idle": "2023-01-08T13:17:55.553935Z",
     "shell.execute_reply": "2023-01-08T13:17:55.552885Z"
    },
    "id": "-29LvX1e1L4b",
    "papermill": {
     "duration": 0.052488,
     "end_time": "2023-01-08T13:17:55.556460",
     "exception": false,
     "start_time": "2023-01-08T13:17:55.503972",
     "status": "completed"
    },
    "tags": []
   },
   "outputs": [],
   "source": [
    "OUT_IMAGE_HEIGHT, OUT_IMAGE_WIDTH = 128, 128\n",
    "\n",
    "def segment_ear(model, image, threshold):\n",
    "    image = image.unsqueeze(dim=0).to(DEVICE)\n",
    "    model = model.to(DEVICE)\n",
    "\n",
    "    # Predict a segmentation mask and apply threshold\n",
    "    pred_mask = torch.sigmoid(model(image)[\"out\"])        \n",
    "    pred_mask[pred_mask >= threshold] = 1.0\n",
    "    pred_mask[pred_mask < threshold] = 0.0\n",
    "    \n",
    "    # check if empty mask\n",
    "    if not pred_mask.nonzero().sum().item():\n",
    "        return None\n",
    "\n",
    "    # Crop image using predicted seg. mask & rescale the image\n",
    "    cropped_image = crop_image(de_normalize(image, mean, std), pred_mask)\n",
    "    cropped_image = Image.fromarray(np.uint8(cropped_image * 255)).resize((OUT_IMAGE_HEIGHT, OUT_IMAGE_WIDTH))\n",
    "\n",
    "    return cropped_image\n",
    "\n",
    "\n",
    "def resnet_50_features(feature_extractor, image):\n",
    "    # Convert image to tensor\n",
    "    image_c = np.array(image).transpose((2, 0, 1))\n",
    "    image_c = torch.from_numpy(image_c)\n",
    "\n",
    "    # Normalize image\n",
    "    image_c = (image_c / 255.0).unsqueeze(dim=0)\n",
    "    image_c = normalize(image_c, mean, std)\n",
    "\n",
    "    # Move data and model on the device\n",
    "    feature_extractor = feature_extractor.to(DEVICE)\n",
    "    image_c = image_c.to(DEVICE)\n",
    "\n",
    "    feature_vect = feature_extractor(image_c).flatten()\n",
    "\n",
    "    return feature_vect"
   ]
  },
  {
   "cell_type": "code",
   "execution_count": 17,
   "id": "08d860f2",
   "metadata": {
    "execution": {
     "iopub.execute_input": "2023-01-08T13:17:55.634930Z",
     "iopub.status.busy": "2023-01-08T13:17:55.634606Z",
     "iopub.status.idle": "2023-01-08T13:18:01.799423Z",
     "shell.execute_reply": "2023-01-08T13:18:01.798541Z"
    },
    "id": "711zuhev0tVu",
    "outputId": "3498beef-666d-4124-c566-320a02f774f2",
    "papermill": {
     "duration": 6.206333,
     "end_time": "2023-01-08T13:18:01.801521",
     "exception": false,
     "start_time": "2023-01-08T13:17:55.595188",
     "status": "completed"
    },
    "tags": []
   },
   "outputs": [
    {
     "name": "stdout",
     "output_type": "stream",
     "text": [
      "Display example features...\n"
     ]
    },
    {
     "data": {
      "image/png": "[encoded data removed]",
      "text/plain": [
       "<Figure size 432x288 with 1 Axes>"
      ]
     },
     "metadata": {
      "needs_background": "light"
     },
     "output_type": "display_data"
    },
    {
     "data": {
      "image/png": "[encoded data removed]",
      "text/plain": [
       "<Figure size 432x288 with 1 Axes>"
      ]
     },
     "metadata": {
      "needs_background": "light"
     },
     "output_type": "display_data"
    },
    {
     "name": "stdout",
     "output_type": "stream",
     "text": [
      "TILE_WIDTH: 16\n"
     ]
    },
    {
     "data": {
      "image/png": "[encoded data removed]",
      "text/plain": [
       "<Figure size 432x288 with 1 Axes>"
      ]
     },
     "metadata": {
      "needs_background": "light"
     },
     "output_type": "display_data"
    },
    {
     "data": {
      "image/png": "[encoded data removed]",
      "text/plain": [
       "<Figure size 432x288 with 1 Axes>"
      ]
     },
     "metadata": {
      "needs_background": "light"
     },
     "output_type": "display_data"
    }
   ],
   "source": [
    "from PIL import Image\n",
    "\n",
    "THRESHOLD = 0.25\n",
    "NUM_POINTS = 8\n",
    "RADIUS = 1\n",
    "TO_HIST = False\n",
    "lbp_descriptor = None\n",
    "\n",
    "with torch.no_grad():\n",
    "    print(\"Display example features...\")\n",
    "    for idx, (image, label) in enumerate(train_dataset):\n",
    "\n",
    "        # Segment ear from the image\n",
    "        cropped_image = segment_ear(deeplabv3_model, image, THRESHOLD)\n",
    "        plt.imshow(cropped_image)\n",
    "        plt.show()\n",
    "\n",
    "        # Convert to gray scale\n",
    "        cropped_gray_image = np.array(cropped_image.convert(\"L\"))\n",
    "        plt.imshow(cropped_gray_image, cmap=\"gray\")\n",
    "        plt.show()\n",
    "        \n",
    "        if not lbp_descriptor:\n",
    "            lbp_descriptor = ScikitLBP(num_points=NUM_POINTS, radius=RADIUS, to_hist=TO_HIST, method=\"default\")\n",
    "            tile_sizes = list(divisors(cropped_gray_image[0].shape[0], generator=True))[1: -1]\n",
    "            TILE_WIDTH = tile_sizes[3]\n",
    "            print(f\"TILE_WIDTH: {TILE_WIDTH}\")\n",
    "\n",
    "        # Extract local binary patterns\n",
    "        feature_vect = lbp_descriptor.describe(cropped_gray_image[np.newaxis, :, :], tile_width=TILE_WIDTH)[0]\n",
    "        feature_vect = feature_vect.reshape((cropped_gray_image.shape))\n",
    "        plt.imshow(feature_vect, cmap=\"gray\")\n",
    "        plt.show()\n",
    "\n",
    "        # ResNet50 (ImageNet) features\n",
    "        feature_vector = resnet_50_features(resnet50_feature_extractor, cropped_image)\n",
    "        plt.plot(feature_vector.cpu())\n",
    "        plt.title(\"ResNet50 feature vector\")\n",
    "        plt.show()\n",
    "\n",
    "        break"
   ]
  },
  {
   "cell_type": "markdown",
   "id": "c0aab7f6",
   "metadata": {
    "id": "ICpUuyftB5gF",
    "papermill": {
     "duration": 0.035688,
     "end_time": "2023-01-08T13:18:01.873980",
     "exception": false,
     "start_time": "2023-01-08T13:18:01.838292",
     "status": "completed"
    },
    "tags": []
   },
   "source": [
    "### Save extracted features using the segmentation model"
   ]
  },
  {
   "cell_type": "code",
   "execution_count": 18,
   "id": "d85d1a76",
   "metadata": {
    "execution": {
     "iopub.execute_input": "2023-01-08T13:18:01.947397Z",
     "iopub.status.busy": "2023-01-08T13:18:01.946524Z",
     "iopub.status.idle": "2023-01-08T13:18:01.951614Z",
     "shell.execute_reply": "2023-01-08T13:18:01.950598Z"
    },
    "id": "TFJtdR0KIEZ-",
    "papermill": {
     "duration": 0.044266,
     "end_time": "2023-01-08T13:18:01.953672",
     "exception": false,
     "start_time": "2023-01-08T13:18:01.909406",
     "status": "completed"
    },
    "tags": []
   },
   "outputs": [],
   "source": [
    "LBP_FEATURES_DIR = \"./lbp_features1\"\n",
    "LBP_RESNET_FEATURES_DIR = \"./lbp_resnet_features1\""
   ]
  },
  {
   "cell_type": "code",
   "execution_count": 19,
   "id": "0f5cb8b8",
   "metadata": {
    "execution": {
     "iopub.execute_input": "2023-01-08T13:18:02.029022Z",
     "iopub.status.busy": "2023-01-08T13:18:02.028719Z",
     "iopub.status.idle": "2023-01-08T13:36:22.377251Z",
     "shell.execute_reply": "2023-01-08T13:36:22.375914Z"
    },
    "id": "9Iu7qP2DB20E",
    "outputId": "a5e21b20-1069-44c1-8661-9f31f7bc08c3",
    "papermill": {
     "duration": 1100.388795,
     "end_time": "2023-01-08T13:36:22.379391",
     "exception": false,
     "start_time": "2023-01-08T13:18:01.990596",
     "status": "completed"
    },
    "tags": []
   },
   "outputs": [
    {
     "name": "stdout",
     "output_type": "stream",
     "text": [
      "Extracting features using segmentation model...\n"
     ]
    },
    {
     "name": "stderr",
     "output_type": "stream",
     "text": [
      "  0%|          | 2/11221 [00:00<14:11, 13.17it/s]"
     ]
    },
    {
     "name": "stdout",
     "output_type": "stream",
     "text": [
      "TILE_WIDTH: 16\n"
     ]
    },
    {
     "name": "stderr",
     "output_type": "stream",
     "text": [
      "100%|██████████| 11221/11221 [18:20<00:00, 10.20it/s]"
     ]
    },
    {
     "name": "stdout",
     "output_type": "stream",
     "text": [
      "none_count: 20\n"
     ]
    },
    {
     "name": "stderr",
     "output_type": "stream",
     "text": [
      "\n"
     ]
    }
   ],
   "source": [
    "from PIL import Image\n",
    "import pickle\n",
    "\n",
    "THRESHOLD = 0.25\n",
    "SAVE_FEATURES = True\n",
    "NUM_POINTS = 8\n",
    "RADIUS = 1\n",
    "TO_HIST = True\n",
    "lbp_descriptor = None\n",
    "none_count = 0\n",
    "\n",
    "with torch.no_grad():\n",
    "    print(\"Extracting features using segmentation model...\")\n",
    "    for idx, (image, label) in enumerate(tqdm(train_dataset)):\n",
    "        # Segment ear from the image\n",
    "        cropped_image = segment_ear(deeplabv3_model, image, THRESHOLD)\n",
    "        #print(np.array(cropped_image).shape)\n",
    "\n",
    "        # if cropped image is None, we din't detect an ear succesfully therefore we should\n",
    "        # ignore this sample-\n",
    "        if not cropped_image:\n",
    "            none_count += 1\n",
    "            continue\n",
    "\n",
    "        # Convert to gray scale\n",
    "        cropped_gray_image = np.array(cropped_image.convert(\"L\"))\n",
    "        #print(cropped_gray_image.shape)\n",
    "\n",
    "        if not lbp_descriptor:\n",
    "            lbp_descriptor = ScikitLBP(num_points=NUM_POINTS, radius=RADIUS, to_hist=TO_HIST, method=\"default\")\n",
    "            tile_sizes = list(divisors(cropped_gray_image[0].shape[0], generator=True))[1: -1]\n",
    "            TILE_WIDTH = tile_sizes[3]\n",
    "            print(f\"TILE_WIDTH: {TILE_WIDTH}\")\n",
    "\n",
    "        # Extract local binary patterns\n",
    "        lbp_fv = lbp_descriptor.describe(cropped_gray_image[np.newaxis, :, :], tile_width=TILE_WIDTH)[0]\n",
    "        #print(lbp_fv.shape)\n",
    "\n",
    "        # ResNet50 (ImageNet) features\n",
    "        resnet_fv = resnet_50_features(resnet50_feature_extractor, cropped_image).cpu()\n",
    "        #print(resnet_fv.numpy().shape)\n",
    "\n",
    "        if SAVE_FEATURES:\n",
    "            # Save LBP features\n",
    "            if not os.path.exists(f\"{LBP_FEATURES_DIR}/{label.split('/')[0]}\"):\n",
    "                os.makedirs(f\"{LBP_FEATURES_DIR}/{label.split('/')[0]}\")\n",
    "\n",
    "            with open(f\"{LBP_FEATURES_DIR}/{label}.pickle\", \"wb\") as handle:\n",
    "                pickle.dump(lbp_fv, handle)\n",
    "\n",
    "            # Save LBP and ResNet50 features\n",
    "            if not os.path.exists(f\"{LBP_RESNET_FEATURES_DIR}/{label.split('/')[0]}\"):\n",
    "                os.makedirs(f\"{LBP_RESNET_FEATURES_DIR}/{label.split('/')[0]}\")\n",
    "\n",
    "            with open(f\"{LBP_RESNET_FEATURES_DIR}/{label}.pickle\", \"wb\") as handle:\n",
    "                fv = np.concatenate([lbp_fv, resnet_fv])\n",
    "                pickle.dump(fv, handle)\n",
    "                \n",
    "print(f\"none_count: {none_count}\")"
   ]
  },
  {
   "cell_type": "markdown",
   "id": "d33f99e3",
   "metadata": {
    "papermill": {
     "duration": 0.378287,
     "end_time": "2023-01-08T13:36:23.088562",
     "exception": false,
     "start_time": "2023-01-08T13:36:22.710275",
     "status": "completed"
    },
    "tags": []
   },
   "source": [
    "### Save extracted features using the ground thruth segmentations"
   ]
  },
  {
   "cell_type": "code",
   "execution_count": 20,
   "id": "c82391ce",
   "metadata": {
    "execution": {
     "iopub.execute_input": "2023-01-08T13:36:23.749058Z",
     "iopub.status.busy": "2023-01-08T13:36:23.748705Z",
     "iopub.status.idle": "2023-01-08T13:36:23.777658Z",
     "shell.execute_reply": "2023-01-08T13:36:23.776456Z"
    },
    "papermill": {
     "duration": 0.358788,
     "end_time": "2023-01-08T13:36:23.779667",
     "exception": false,
     "start_time": "2023-01-08T13:36:23.420879",
     "status": "completed"
    },
    "tags": []
   },
   "outputs": [
    {
     "name": "stdout",
     "output_type": "stream",
     "text": [
      "11221\n"
     ]
    }
   ],
   "source": [
    "class EarDataset(Dataset):\n",
    "    def __init__(\n",
    "        self, annotations_file, image_dir=\"./images\", mask_dir=\"./masks\", transform=None\n",
    "    ):\n",
    "        super().__init__()\n",
    "        self.annotations = pd.read_csv(annotations_file, delimiter=\"\\t\", dtype=\"str\")\n",
    "        self.image_dir = image_dir\n",
    "        self.mask_dir = mask_dir\n",
    "        self.transform = transform\n",
    "\n",
    "    def __len__(self):\n",
    "        return len(self.annotations)\n",
    "\n",
    "    def __getitem__(self, idx):\n",
    "        if torch.is_tensor(idx):\n",
    "            idx = idx.tolist()\n",
    "\n",
    "        # Fetch image and mask name\n",
    "        folder_name, file_name = np.array(self.annotations.iloc[idx, :2])\n",
    "        image_name = os.path.join(self.image_dir, f\"{folder_name}/{file_name}.png\")\n",
    "        mask_name = os.path.join(self.mask_dir, f\"{folder_name}/{file_name}.png\")\n",
    "\n",
    "        # Read image and mask & convert to numpy array\n",
    "        image = np.array(PIL.Image.open(image_name))\n",
    "        mask = np.array(PIL.Image.open(mask_name).convert(\"L\"))\n",
    "        mask = mask[:, :, np.newaxis]\n",
    "        mask[mask == 255.0] = 1.0\n",
    "        \n",
    "        label = f\"{folder_name}/{file_name}\"\n",
    "\n",
    "        if self.transform:\n",
    "            augmentation = self.transform(image=image, mask=mask)\n",
    "            image, mask = augmentation[\"image\"], augmentation[\"mask\"] \n",
    "\n",
    "        return image, mask, label\n",
    "    \n",
    "IMAGE_HEIGHT, IMAGE_WIDTH = 300, 300\n",
    "preprocess_transform = albumentations.Compose([\n",
    "    albumentations.Resize(width=IMAGE_WIDTH, height=IMAGE_HEIGHT),\n",
    "    albumentations.Normalize(mean=[0.0, 0.0, 0.0], std=[1.0, 1.0, 1.0], max_pixel_value=255.0),\n",
    "    ToTensorV2(transpose_mask=True)\n",
    "])\n",
    "\n",
    "train_dataset = EarDataset(annotations_file=f\"/kaggle/input/tempdata/annotations_train.csv\",\n",
    "                                image_dir=f\"{ROOT_PATH}/images\",\n",
    "                                mask_dir=f\"{ROOT_PATH}/masks\",\n",
    "                                transform=preprocess_transform)\n",
    "\n",
    "print(len(train_dataset))"
   ]
  },
  {
   "cell_type": "code",
   "execution_count": 21,
   "id": "1355a85c",
   "metadata": {
    "execution": {
     "iopub.execute_input": "2023-01-08T13:36:24.500023Z",
     "iopub.status.busy": "2023-01-08T13:36:24.499621Z",
     "iopub.status.idle": "2023-01-08T13:36:24.523806Z",
     "shell.execute_reply": "2023-01-08T13:36:24.522775Z"
    },
    "papermill": {
     "duration": 0.401169,
     "end_time": "2023-01-08T13:36:24.525862",
     "exception": false,
     "start_time": "2023-01-08T13:36:24.124693",
     "status": "completed"
    },
    "tags": []
   },
   "outputs": [
    {
     "data": {
      "text/plain": [
       "(torch.Size([3, 300, 300]), torch.Size([1, 300, 300]), '001/02')"
      ]
     },
     "execution_count": 21,
     "metadata": {},
     "output_type": "execute_result"
    }
   ],
   "source": [
    "image, mask, label = train_dataset[0]\n",
    "image.shape, mask.shape, label"
   ]
  },
  {
   "cell_type": "code",
   "execution_count": 22,
   "id": "1fbac954",
   "metadata": {
    "execution": {
     "iopub.execute_input": "2023-01-08T13:36:25.219068Z",
     "iopub.status.busy": "2023-01-08T13:36:25.218378Z",
     "iopub.status.idle": "2023-01-08T13:36:25.226007Z",
     "shell.execute_reply": "2023-01-08T13:36:25.224924Z"
    },
    "papermill": {
     "duration": 0.378568,
     "end_time": "2023-01-08T13:36:25.231705",
     "exception": false,
     "start_time": "2023-01-08T13:36:24.853137",
     "status": "completed"
    },
    "tags": []
   },
   "outputs": [],
   "source": [
    "def segment_ear_ground_truth(image, gt_mask):\n",
    "    cropped_image = crop_image(image, gt_mask)\n",
    "    cropped_image = Image.fromarray(np.uint8(cropped_image * 255.0)).resize((OUT_IMAGE_HEIGHT, OUT_IMAGE_WIDTH))\n",
    "    \n",
    "    return cropped_image"
   ]
  },
  {
   "cell_type": "code",
   "execution_count": 23,
   "id": "bad01804",
   "metadata": {
    "execution": {
     "iopub.execute_input": "2023-01-08T13:36:26.394366Z",
     "iopub.status.busy": "2023-01-08T13:36:26.393803Z",
     "iopub.status.idle": "2023-01-08T13:50:18.298963Z",
     "shell.execute_reply": "2023-01-08T13:50:18.297629Z"
    },
    "papermill": {
     "duration": 832.51548,
     "end_time": "2023-01-08T13:50:18.300996",
     "exception": false,
     "start_time": "2023-01-08T13:36:25.785516",
     "status": "completed"
    },
    "tags": []
   },
   "outputs": [
    {
     "name": "stdout",
     "output_type": "stream",
     "text": [
      "Extracting features using ground truth segmentations...\n"
     ]
    },
    {
     "name": "stderr",
     "output_type": "stream",
     "text": [
      "  0%|          | 2/11221 [00:00<09:23, 19.91it/s]"
     ]
    },
    {
     "name": "stdout",
     "output_type": "stream",
     "text": [
      "TILE_WIDTH: 16\n"
     ]
    },
    {
     "name": "stderr",
     "output_type": "stream",
     "text": [
      "100%|██████████| 11221/11221 [13:51<00:00, 13.49it/s]\n"
     ]
    }
   ],
   "source": [
    "from PIL import Image\n",
    "import pickle\n",
    "\n",
    "SAVE_FEATURES = True\n",
    "NUM_POINTS = 8\n",
    "RADIUS = 1\n",
    "TO_HIST = True\n",
    "lbp_descriptor = None\n",
    "LBP_FEATURES_DIR = \"./lbp_features_gt\"\n",
    "LBP_RESNET_FEATURES_DIR = \"./lbp_resnet_features_gt\"\n",
    "\n",
    "with torch.no_grad():\n",
    "    print(\"Extracting features using ground truth segmentations...\")\n",
    "    for idx, (image, gt_mask, label) in enumerate(tqdm(train_dataset)):\n",
    "        \n",
    "        #######################################################################################\n",
    "        cropped_image = segment_ear_ground_truth(image.unsqueeze(0), gt_mask.unsqueeze(0))\n",
    "        #######################################################################################\n",
    "        \n",
    "        # print(cropped_image.shape)\n",
    "        \n",
    "        # Convert to gray scale\n",
    "        cropped_gray_image = np.array(cropped_image.convert(\"L\"))\n",
    "        # print(cropped_gray_image.shape)\n",
    "        \n",
    "        if not lbp_descriptor:\n",
    "            lbp_descriptor = ScikitLBP(num_points=NUM_POINTS, radius=RADIUS, to_hist=TO_HIST, method=\"default\")\n",
    "            tile_sizes = list(divisors(cropped_gray_image[0].shape[0], generator=True))[1: -1]\n",
    "            TILE_WIDTH = tile_sizes[3]\n",
    "            print(f\"TILE_WIDTH: {TILE_WIDTH}\")\n",
    "\n",
    "        # Extract local binary patterns\n",
    "        lbp_fv = lbp_descriptor.describe(cropped_gray_image[np.newaxis, :, :], tile_width=TILE_WIDTH)[0]\n",
    "        # print(lbp_fv.shape)\n",
    "\n",
    "        # ResNet50 (ImageNet) features\n",
    "        resnet_fv = resnet_50_features(resnet50_feature_extractor, cropped_image).cpu()\n",
    "        # print(resnet_fv.numpy().shape)\n",
    "                \n",
    "        if SAVE_FEATURES:\n",
    "            # Save LBP features\n",
    "            if not os.path.exists(f\"{LBP_FEATURES_DIR}/{label.split('/')[0]}\"):\n",
    "                os.makedirs(f\"{LBP_FEATURES_DIR}/{label.split('/')[0]}\")\n",
    "\n",
    "            with open(f\"{LBP_FEATURES_DIR}/{label}.pickle\", \"wb\") as handle:\n",
    "                pickle.dump(lbp_fv, handle)\n",
    "\n",
    "            # Save LBP and ResNet50 features\n",
    "            if not os.path.exists(f\"{LBP_RESNET_FEATURES_DIR}/{label.split('/')[0]}\"):\n",
    "                os.makedirs(f\"{LBP_RESNET_FEATURES_DIR}/{label.split('/')[0]}\")\n",
    "\n",
    "            with open(f\"{LBP_RESNET_FEATURES_DIR}/{label}.pickle\", \"wb\") as handle:\n",
    "                fv = np.concatenate([lbp_fv, resnet_fv])\n",
    "                pickle.dump(fv, handle)"
   ]
  },
  {
   "cell_type": "code",
   "execution_count": null,
   "id": "7334157b",
   "metadata": {
    "papermill": {
     "duration": 0.582973,
     "end_time": "2023-01-08T13:50:19.499663",
     "exception": false,
     "start_time": "2023-01-08T13:50:18.916690",
     "status": "completed"
    },
    "tags": []
   },
   "outputs": [],
   "source": []
  }
 ],
 "metadata": {
  "kernelspec": {
   "display_name": "Python 3 (ipykernel)",
   "language": "python",
   "name": "python3"
  },
  "language_info": {
   "codemirror_mode": {
    "name": "ipython",
    "version": 3
   },
   "file_extension": ".py",
   "mimetype": "text/x-python",
   "name": "python",
   "nbconvert_exporter": "python",
   "pygments_lexer": "ipython3",
   "version": "3.10.6"
  },
  "papermill": {
   "default_parameters": {},
   "duration": 1974.455143,
   "end_time": "2023-01-08T13:50:22.492410",
   "environment_variables": {},
   "exception": null,
   "input_path": "__notebook__.ipynb",
   "output_path": "__notebook__.ipynb",
   "parameters": {},
   "start_time": "2023-01-08T13:17:28.037267",
   "version": "2.3.4"
  },
  "widgets": {
   "application/vnd.jupyter.widget-state+json": {
    "state": {
     "02a458ab8ff24f98bdf0992304f4b8a6": {
      "model_module": "@jupyter-widgets/controls",
      "model_module_version": "1.5.0",
      "model_name": "HTMLModel",
      "state": {
       "_dom_classes": [],
       "_model_module": "@jupyter-widgets/controls",
       "_model_module_version": "1.5.0",
       "_model_name": "HTMLModel",
       "_view_count": null,
       "_view_module": "@jupyter-widgets/controls",
       "_view_module_version": "1.5.0",
       "_view_name": "HTMLView",
       "description": "",
       "description_tooltip": null,
       "layout": "IPY_MODEL_bf814d3b27cb499289b25c49eec0c2f6",
       "placeholder": "​",
       "style": "IPY_MODEL_75c41cd53de04c8e938c9b7832e8d8b0",
       "value": " 97.8M/97.8M [00:00&lt;00:00, 195MB/s]"
      }
     },
     "0f758386f76744dcb7d075a9dc83760d": {
      "model_module": "@jupyter-widgets/controls",
      "model_module_version": "1.5.0",
      "model_name": "FloatProgressModel",
      "state": {
       "_dom_classes": [],
       "_model_module": "@jupyter-widgets/controls",
       "_model_module_version": "1.5.0",
       "_model_name": "FloatProgressModel",
       "_view_count": null,
       "_view_module": "@jupyter-widgets/controls",
       "_view_module_version": "1.5.0",
       "_view_name": "ProgressView",
       "bar_style": "success",
       "description": "",
       "description_tooltip": null,
       "layout": "IPY_MODEL_8df19f3fe4904c73913defe94f935850",
       "max": 168312152,
       "min": 0,
       "orientation": "horizontal",
       "style": "IPY_MODEL_b6a7e58d81cb45139df2baf04be81c8c",
       "value": 168312152
      }
     },
     "117d7d34a6b54962b7c9d43c8e3bf99d": {
      "model_module": "@jupyter-widgets/controls",
      "model_module_version": "1.5.0",
      "model_name": "DescriptionStyleModel",
      "state": {
       "_model_module": "@jupyter-widgets/controls",
       "_model_module_version": "1.5.0",
       "_model_name": "DescriptionStyleModel",
       "_view_count": null,
       "_view_module": "@jupyter-widgets/base",
       "_view_module_version": "1.2.0",
       "_view_name": "StyleView",
       "description_width": ""
      }
     },
     "1380f941d3bf43cab84775c66264bfa9": {
      "model_module": "@jupyter-widgets/base",
      "model_module_version": "1.2.0",
      "model_name": "LayoutModel",
      "state": {
       "_model_module": "@jupyter-widgets/base",
       "_model_module_version": "1.2.0",
       "_model_name": "LayoutModel",
       "_view_count": null,
       "_view_module": "@jupyter-widgets/base",
       "_view_module_version": "1.2.0",
       "_view_name": "LayoutView",
       "align_content": null,
       "align_items": null,
       "align_self": null,
       "border": null,
       "bottom": null,
       "display": null,
       "flex": null,
       "flex_flow": null,
       "grid_area": null,
       "grid_auto_columns": null,
       "grid_auto_flow": null,
       "grid_auto_rows": null,
       "grid_column": null,
       "grid_gap": null,
       "grid_row": null,
       "grid_template_areas": null,
       "grid_template_columns": null,
       "grid_template_rows": null,
       "height": null,
       "justify_content": null,
       "justify_items": null,
       "left": null,
       "margin": null,
       "max_height": null,
       "max_width": null,
       "min_height": null,
       "min_width": null,
       "object_fit": null,
       "object_position": null,
       "order": null,
       "overflow": null,
       "overflow_x": null,
       "overflow_y": null,
       "padding": null,
       "right": null,
       "top": null,
       "visibility": null,
       "width": null
      }
     },
     "256eed1023654c0d9e048b8473a0f460": {
      "model_module": "@jupyter-widgets/base",
      "model_module_version": "1.2.0",
      "model_name": "LayoutModel",
      "state": {
       "_model_module": "@jupyter-widgets/base",
       "_model_module_version": "1.2.0",
       "_model_name": "LayoutModel",
       "_view_count": null,
       "_view_module": "@jupyter-widgets/base",
       "_view_module_version": "1.2.0",
       "_view_name": "LayoutView",
       "align_content": null,
       "align_items": null,
       "align_self": null,
       "border": null,
       "bottom": null,
       "display": null,
       "flex": null,
       "flex_flow": null,
       "grid_area": null,
       "grid_auto_columns": null,
       "grid_auto_flow": null,
       "grid_auto_rows": null,
       "grid_column": null,
       "grid_gap": null,
       "grid_row": null,
       "grid_template_areas": null,
       "grid_template_columns": null,
       "grid_template_rows": null,
       "height": null,
       "justify_content": null,
       "justify_items": null,
       "left": null,
       "margin": null,
       "max_height": null,
       "max_width": null,
       "min_height": null,
       "min_width": null,
       "object_fit": null,
       "object_position": null,
       "order": null,
       "overflow": null,
       "overflow_x": null,
       "overflow_y": null,
       "padding": null,
       "right": null,
       "top": null,
       "visibility": null,
       "width": null
      }
     },
     "3971ab459da54b399e88893d4d42448e": {
      "model_module": "@jupyter-widgets/base",
      "model_module_version": "1.2.0",
      "model_name": "LayoutModel",
      "state": {
       "_model_module": "@jupyter-widgets/base",
       "_model_module_version": "1.2.0",
       "_model_name": "LayoutModel",
       "_view_count": null,
       "_view_module": "@jupyter-widgets/base",
       "_view_module_version": "1.2.0",
       "_view_name": "LayoutView",
       "align_content": null,
       "align_items": null,
       "align_self": null,
       "border": null,
       "bottom": null,
       "display": null,
       "flex": null,
       "flex_flow": null,
       "grid_area": null,
       "grid_auto_columns": null,
       "grid_auto_flow": null,
       "grid_auto_rows": null,
       "grid_column": null,
       "grid_gap": null,
       "grid_row": null,
       "grid_template_areas": null,
       "grid_template_columns": null,
       "grid_template_rows": null,
       "height": null,
       "justify_content": null,
       "justify_items": null,
       "left": null,
       "margin": null,
       "max_height": null,
       "max_width": null,
       "min_height": null,
       "min_width": null,
       "object_fit": null,
       "object_position": null,
       "order": null,
       "overflow": null,
       "overflow_x": null,
       "overflow_y": null,
       "padding": null,
       "right": null,
       "top": null,
       "visibility": null,
       "width": null
      }
     },
     "56d58bf681504d1b855dc3ed9a54168c": {
      "model_module": "@jupyter-widgets/controls",
      "model_module_version": "1.5.0",
      "model_name": "DescriptionStyleModel",
      "state": {
       "_model_module": "@jupyter-widgets/controls",
       "_model_module_version": "1.5.0",
       "_model_name": "DescriptionStyleModel",
       "_view_count": null,
       "_view_module": "@jupyter-widgets/base",
       "_view_module_version": "1.2.0",
       "_view_name": "StyleView",
       "description_width": ""
      }
     },
     "5facd1a292d34ea798de8dfb6e3decf6": {
      "model_module": "@jupyter-widgets/controls",
      "model_module_version": "1.5.0",
      "model_name": "HTMLModel",
      "state": {
       "_dom_classes": [],
       "_model_module": "@jupyter-widgets/controls",
       "_model_module_version": "1.5.0",
       "_model_name": "HTMLModel",
       "_view_count": null,
       "_view_module": "@jupyter-widgets/controls",
       "_view_module_version": "1.5.0",
       "_view_name": "HTMLView",
       "description": "",
       "description_tooltip": null,
       "layout": "IPY_MODEL_bdc7687189744a12bfc5cfee1d52c3a1",
       "placeholder": "​",
       "style": "IPY_MODEL_117d7d34a6b54962b7c9d43c8e3bf99d",
       "value": " 161M/161M [00:01&lt;00:00, 184MB/s]"
      }
     },
     "6d8ae88470fc457b8c869647204e3108": {
      "model_module": "@jupyter-widgets/controls",
      "model_module_version": "1.5.0",
      "model_name": "HBoxModel",
      "state": {
       "_dom_classes": [],
       "_model_module": "@jupyter-widgets/controls",
       "_model_module_version": "1.5.0",
       "_model_name": "HBoxModel",
       "_view_count": null,
       "_view_module": "@jupyter-widgets/controls",
       "_view_module_version": "1.5.0",
       "_view_name": "HBoxView",
       "box_style": "",
       "children": [
        "IPY_MODEL_734bc73a207443fa8a171afb779ba0e2",
        "IPY_MODEL_e86fd1ff64ef4bb8b5926f4939a96b25",
        "IPY_MODEL_02a458ab8ff24f98bdf0992304f4b8a6"
       ],
       "layout": "IPY_MODEL_fc6eb9574e284d2dbd4f798b8c871740"
      }
     },
     "734bc73a207443fa8a171afb779ba0e2": {
      "model_module": "@jupyter-widgets/controls",
      "model_module_version": "1.5.0",
      "model_name": "HTMLModel",
      "state": {
       "_dom_classes": [],
       "_model_module": "@jupyter-widgets/controls",
       "_model_module_version": "1.5.0",
       "_model_name": "HTMLModel",
       "_view_count": null,
       "_view_module": "@jupyter-widgets/controls",
       "_view_module_version": "1.5.0",
       "_view_name": "HTMLView",
       "description": "",
       "description_tooltip": null,
       "layout": "IPY_MODEL_256eed1023654c0d9e048b8473a0f460",
       "placeholder": "​",
       "style": "IPY_MODEL_56d58bf681504d1b855dc3ed9a54168c",
       "value": "100%"
      }
     },
     "75c41cd53de04c8e938c9b7832e8d8b0": {
      "model_module": "@jupyter-widgets/controls",
      "model_module_version": "1.5.0",
      "model_name": "DescriptionStyleModel",
      "state": {
       "_model_module": "@jupyter-widgets/controls",
       "_model_module_version": "1.5.0",
       "_model_name": "DescriptionStyleModel",
       "_view_count": null,
       "_view_module": "@jupyter-widgets/base",
       "_view_module_version": "1.2.0",
       "_view_name": "StyleView",
       "description_width": ""
      }
     },
     "8df19f3fe4904c73913defe94f935850": {
      "model_module": "@jupyter-widgets/base",
      "model_module_version": "1.2.0",
      "model_name": "LayoutModel",
      "state": {
       "_model_module": "@jupyter-widgets/base",
       "_model_module_version": "1.2.0",
       "_model_name": "LayoutModel",
       "_view_count": null,
       "_view_module": "@jupyter-widgets/base",
       "_view_module_version": "1.2.0",
       "_view_name": "LayoutView",
       "align_content": null,
       "align_items": null,
       "align_self": null,
       "border": null,
       "bottom": null,
       "display": null,
       "flex": null,
       "flex_flow": null,
       "grid_area": null,
       "grid_auto_columns": null,
       "grid_auto_flow": null,
       "grid_auto_rows": null,
       "grid_column": null,
       "grid_gap": null,
       "grid_row": null,
       "grid_template_areas": null,
       "grid_template_columns": null,
       "grid_template_rows": null,
       "height": null,
       "justify_content": null,
       "justify_items": null,
       "left": null,
       "margin": null,
       "max_height": null,
       "max_width": null,
       "min_height": null,
       "min_width": null,
       "object_fit": null,
       "object_position": null,
       "order": null,
       "overflow": null,
       "overflow_x": null,
       "overflow_y": null,
       "padding": null,
       "right": null,
       "top": null,
       "visibility": null,
       "width": null
      }
     },
     "944ea71e8b944efca5b5d3e1a562cdff": {
      "model_module": "@jupyter-widgets/controls",
      "model_module_version": "1.5.0",
      "model_name": "ProgressStyleModel",
      "state": {
       "_model_module": "@jupyter-widgets/controls",
       "_model_module_version": "1.5.0",
       "_model_name": "ProgressStyleModel",
       "_view_count": null,
       "_view_module": "@jupyter-widgets/base",
       "_view_module_version": "1.2.0",
       "_view_name": "StyleView",
       "bar_color": null,
       "description_width": ""
      }
     },
     "9580930a29044f1e9809b3803b74b212": {
      "model_module": "@jupyter-widgets/controls",
      "model_module_version": "1.5.0",
      "model_name": "HTMLModel",
      "state": {
       "_dom_classes": [],
       "_model_module": "@jupyter-widgets/controls",
       "_model_module_version": "1.5.0",
       "_model_name": "HTMLModel",
       "_view_count": null,
       "_view_module": "@jupyter-widgets/controls",
       "_view_module_version": "1.5.0",
       "_view_name": "HTMLView",
       "description": "",
       "description_tooltip": null,
       "layout": "IPY_MODEL_3971ab459da54b399e88893d4d42448e",
       "placeholder": "​",
       "style": "IPY_MODEL_a5eee9a7ef69498b9d3433c2be74847b",
       "value": "100%"
      }
     },
     "a5eee9a7ef69498b9d3433c2be74847b": {
      "model_module": "@jupyter-widgets/controls",
      "model_module_version": "1.5.0",
      "model_name": "DescriptionStyleModel",
      "state": {
       "_model_module": "@jupyter-widgets/controls",
       "_model_module_version": "1.5.0",
       "_model_name": "DescriptionStyleModel",
       "_view_count": null,
       "_view_module": "@jupyter-widgets/base",
       "_view_module_version": "1.2.0",
       "_view_name": "StyleView",
       "description_width": ""
      }
     },
     "b6a7e58d81cb45139df2baf04be81c8c": {
      "model_module": "@jupyter-widgets/controls",
      "model_module_version": "1.5.0",
      "model_name": "ProgressStyleModel",
      "state": {
       "_model_module": "@jupyter-widgets/controls",
       "_model_module_version": "1.5.0",
       "_model_name": "ProgressStyleModel",
       "_view_count": null,
       "_view_module": "@jupyter-widgets/base",
       "_view_module_version": "1.2.0",
       "_view_name": "StyleView",
       "bar_color": null,
       "description_width": ""
      }
     },
     "bdc7687189744a12bfc5cfee1d52c3a1": {
      "model_module": "@jupyter-widgets/base",
      "model_module_version": "1.2.0",
      "model_name": "LayoutModel",
      "state": {
       "_model_module": "@jupyter-widgets/base",
       "_model_module_version": "1.2.0",
       "_model_name": "LayoutModel",
       "_view_count": null,
       "_view_module": "@jupyter-widgets/base",
       "_view_module_version": "1.2.0",
       "_view_name": "LayoutView",
       "align_content": null,
       "align_items": null,
       "align_self": null,
       "border": null,
       "bottom": null,
       "display": null,
       "flex": null,
       "flex_flow": null,
       "grid_area": null,
       "grid_auto_columns": null,
       "grid_auto_flow": null,
       "grid_auto_rows": null,
       "grid_column": null,
       "grid_gap": null,
       "grid_row": null,
       "grid_template_areas": null,
       "grid_template_columns": null,
       "grid_template_rows": null,
       "height": null,
       "justify_content": null,
       "justify_items": null,
       "left": null,
       "margin": null,
       "max_height": null,
       "max_width": null,
       "min_height": null,
       "min_width": null,
       "object_fit": null,
       "object_position": null,
       "order": null,
       "overflow": null,
       "overflow_x": null,
       "overflow_y": null,
       "padding": null,
       "right": null,
       "top": null,
       "visibility": null,
       "width": null
      }
     },
     "bf814d3b27cb499289b25c49eec0c2f6": {
      "model_module": "@jupyter-widgets/base",
      "model_module_version": "1.2.0",
      "model_name": "LayoutModel",
      "state": {
       "_model_module": "@jupyter-widgets/base",
       "_model_module_version": "1.2.0",
       "_model_name": "LayoutModel",
       "_view_count": null,
       "_view_module": "@jupyter-widgets/base",
       "_view_module_version": "1.2.0",
       "_view_name": "LayoutView",
       "align_content": null,
       "align_items": null,
       "align_self": null,
       "border": null,
       "bottom": null,
       "display": null,
       "flex": null,
       "flex_flow": null,
       "grid_area": null,
       "grid_auto_columns": null,
       "grid_auto_flow": null,
       "grid_auto_rows": null,
       "grid_column": null,
       "grid_gap": null,
       "grid_row": null,
       "grid_template_areas": null,
       "grid_template_columns": null,
       "grid_template_rows": null,
       "height": null,
       "justify_content": null,
       "justify_items": null,
       "left": null,
       "margin": null,
       "max_height": null,
       "max_width": null,
       "min_height": null,
       "min_width": null,
       "object_fit": null,
       "object_position": null,
       "order": null,
       "overflow": null,
       "overflow_x": null,
       "overflow_y": null,
       "padding": null,
       "right": null,
       "top": null,
       "visibility": null,
       "width": null
      }
     },
     "c1dddeb5b6a44a81a8d4613e715dcbb6": {
      "model_module": "@jupyter-widgets/base",
      "model_module_version": "1.2.0",
      "model_name": "LayoutModel",
      "state": {
       "_model_module": "@jupyter-widgets/base",
       "_model_module_version": "1.2.0",
       "_model_name": "LayoutModel",
       "_view_count": null,
       "_view_module": "@jupyter-widgets/base",
       "_view_module_version": "1.2.0",
       "_view_name": "LayoutView",
       "align_content": null,
       "align_items": null,
       "align_self": null,
       "border": null,
       "bottom": null,
       "display": null,
       "flex": null,
       "flex_flow": null,
       "grid_area": null,
       "grid_auto_columns": null,
       "grid_auto_flow": null,
       "grid_auto_rows": null,
       "grid_column": null,
       "grid_gap": null,
       "grid_row": null,
       "grid_template_areas": null,
       "grid_template_columns": null,
       "grid_template_rows": null,
       "height": null,
       "justify_content": null,
       "justify_items": null,
       "left": null,
       "margin": null,
       "max_height": null,
       "max_width": null,
       "min_height": null,
       "min_width": null,
       "object_fit": null,
       "object_position": null,
       "order": null,
       "overflow": null,
       "overflow_x": null,
       "overflow_y": null,
       "padding": null,
       "right": null,
       "top": null,
       "visibility": null,
       "width": null
      }
     },
     "ce28bd9d02a14cc89b3d546346f3e52d": {
      "model_module": "@jupyter-widgets/controls",
      "model_module_version": "1.5.0",
      "model_name": "HBoxModel",
      "state": {
       "_dom_classes": [],
       "_model_module": "@jupyter-widgets/controls",
       "_model_module_version": "1.5.0",
       "_model_name": "HBoxModel",
       "_view_count": null,
       "_view_module": "@jupyter-widgets/controls",
       "_view_module_version": "1.5.0",
       "_view_name": "HBoxView",
       "box_style": "",
       "children": [
        "IPY_MODEL_9580930a29044f1e9809b3803b74b212",
        "IPY_MODEL_0f758386f76744dcb7d075a9dc83760d",
        "IPY_MODEL_5facd1a292d34ea798de8dfb6e3decf6"
       ],
       "layout": "IPY_MODEL_1380f941d3bf43cab84775c66264bfa9"
      }
     },
     "e86fd1ff64ef4bb8b5926f4939a96b25": {
      "model_module": "@jupyter-widgets/controls",
      "model_module_version": "1.5.0",
      "model_name": "FloatProgressModel",
      "state": {
       "_dom_classes": [],
       "_model_module": "@jupyter-widgets/controls",
       "_model_module_version": "1.5.0",
       "_model_name": "FloatProgressModel",
       "_view_count": null,
       "_view_module": "@jupyter-widgets/controls",
       "_view_module_version": "1.5.0",
       "_view_name": "ProgressView",
       "bar_style": "success",
       "description": "",
       "description_tooltip": null,
       "layout": "IPY_MODEL_c1dddeb5b6a44a81a8d4613e715dcbb6",
       "max": 102530333,
       "min": 0,
       "orientation": "horizontal",
       "style": "IPY_MODEL_944ea71e8b944efca5b5d3e1a562cdff",
       "value": 102530333
      }
     },
     "fc6eb9574e284d2dbd4f798b8c871740": {
      "model_module": "@jupyter-widgets/base",
      "model_module_version": "1.2.0",
      "model_name": "LayoutModel",
      "state": {
       "_model_module": "@jupyter-widgets/base",
       "_model_module_version": "1.2.0",
       "_model_name": "LayoutModel",
       "_view_count": null,
       "_view_module": "@jupyter-widgets/base",
       "_view_module_version": "1.2.0",
       "_view_name": "LayoutView",
       "align_content": null,
       "align_items": null,
       "align_self": null,
       "border": null,
       "bottom": null,
       "display": null,
       "flex": null,
       "flex_flow": null,
       "grid_area": null,
       "grid_auto_columns": null,
       "grid_auto_flow": null,
       "grid_auto_rows": null,
       "grid_column": null,
       "grid_gap": null,
       "grid_row": null,
       "grid_template_areas": null,
       "grid_template_columns": null,
       "grid_template_rows": null,
       "height": null,
       "justify_content": null,
       "justify_items": null,
       "left": null,
       "margin": null,
       "max_height": null,
       "max_width": null,
       "min_height": null,
       "min_width": null,
       "object_fit": null,
       "object_position": null,
       "order": null,
       "overflow": null,
       "overflow_x": null,
       "overflow_y": null,
       "padding": null,
       "right": null,
       "top": null,
       "visibility": null,
       "width": null
      }
     }
    },
    "version_major": 2,
    "version_minor": 0
   }
  }
 },
 "nbformat": 4,
 "nbformat_minor": 5
}
